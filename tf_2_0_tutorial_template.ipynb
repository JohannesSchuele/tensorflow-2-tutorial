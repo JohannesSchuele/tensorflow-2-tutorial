{
  "nbformat": 4,
  "nbformat_minor": 0,
  "metadata": {
    "colab": {
      "name": "tf_2.0_tutorial_template.ipynb",
      "provenance": [],
      "collapsed_sections": [],
      "toc_visible": true
    },
    "kernelspec": {
      "name": "python3",
      "display_name": "Python 3"
    },
    "accelerator": "GPU"
  },
  "cells": [
    {
      "cell_type": "markdown",
      "metadata": {
        "id": "YS8LoLU0OQha",
        "colab_type": "text"
      },
      "source": [
        "# Part #N: Tutorial Title\n",
        "\n",
        "\n",
        "TensorFlow 2.0 Tutorial by IUST\n",
        "\n",
        "*   Last Update: Jan 2020\n",
        "*   Official Page: https://github.com/iust-deep-learning/tensorflow-2-tutorial\n",
        "\n",
        "\n",
        "\n",
        "\n",
        "\n",
        "---\n",
        "\n",
        "\n"
      ]
    },
    {
      "cell_type": "markdown",
      "metadata": {
        "id": "gSj39l8gcIA8",
        "colab_type": "text"
      },
      "source": [
        "Please run the following cell before going through the rest of the tutorial."
      ]
    },
    {
      "cell_type": "code",
      "metadata": {
        "id": "RFC1dEyMcFq2",
        "colab_type": "code",
        "cellView": "both",
        "outputId": "dcdda310-5c8e-45c7-d90f-5790ede41b0b",
        "colab": {
          "base_uri": "https://localhost:8080/",
          "height": 34
        }
      },
      "source": [
        "from __future__ import absolute_import, division, print_function, unicode_literals\n",
        "\n",
        "# Install TensorFlow\n",
        "try:\n",
        "  # %tensorflow_version only exists in Colab.\n",
        "  %tensorflow_version 2.x\n",
        "except Exception:\n",
        "  pass\n",
        "\n",
        "import tensorflow as tf\n",
        "import numpy as np"
      ],
      "execution_count": 0,
      "outputs": [
        {
          "output_type": "stream",
          "text": [
            "TensorFlow 2.x selected.\n"
          ],
          "name": "stdout"
        }
      ]
    },
    {
      "cell_type": "markdown",
      "metadata": {
        "id": "p_7OENTGhsyN",
        "colab_type": "text"
      },
      "source": [
        "## 1. Introduction\n",
        "---"
      ]
    },
    {
      "cell_type": "markdown",
      "metadata": {
        "colab_type": "text",
        "id": "eGHQmDwsZhWh"
      },
      "source": [
        "## 2. Section 1\n",
        "\n",
        "---\n",
        "\n"
      ]
    },
    {
      "cell_type": "markdown",
      "metadata": {
        "id": "Q2Cda9aJh0CO",
        "colab_type": "text"
      },
      "source": [
        "## 3. Section 2\n",
        "---"
      ]
    },
    {
      "cell_type": "markdown",
      "metadata": {
        "colab_type": "text",
        "id": "tXo0f6BgZhYU"
      },
      "source": [
        "## 4. References\n",
        "---\n",
        "\n"
      ]
    },
    {
      "cell_type": "markdown",
      "metadata": {
        "colab_type": "text",
        "id": "1DT_2hsJ1_gl"
      },
      "source": [
        "1.   Author Name “Name” In Conf Name, Page Number. Location: Institute, Year, URL.\n",
        "2.   List item\n",
        "\n",
        "\n",
        "\n",
        "\n",
        "\n",
        "\n",
        "\n",
        "\n"
      ]
    }
  ]
}