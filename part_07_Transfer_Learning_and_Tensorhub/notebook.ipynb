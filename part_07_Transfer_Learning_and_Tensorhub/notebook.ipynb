{
  "nbformat": 4,
  "nbformat_minor": 0,
  "metadata": {
    "colab": {
      "name": "tensorhub.ipynb",
      "provenance": [],
      "collapsed_sections": [],
      "toc_visible": true
    },
    "kernelspec": {
      "name": "python3",
      "display_name": "Python 3"
    },
    "accelerator": "GPU"
  },
  "cells": [
    {
      "cell_type": "code",
      "metadata": {
        "id": "zi_7NXshKVy4",
        "colab_type": "code",
        "colab": {}
      },
      "source": [
        "%tensorflow_version 2.0.0"
      ],
      "execution_count": 0,
      "outputs": []
    },
    {
      "cell_type": "markdown",
      "metadata": {
        "id": "PCRjCuIF5HVo",
        "colab_type": "text"
      },
      "source": [
        "**tensorflow_datasets (tfds)** defines a collection of datasets ready-to-use with TensorFlow.\n",
        "\n",
        "Each dataset is defined as a **tfds.core.DatasetBuilder**, which encapsulates the logic to download the dataset and construct an input pipeline, as well as contains the dataset documentation (version, splits, number of examples, etc.).\n",
        "\n",
        "The main library entrypoint is:\n",
        " \n",
        "\n",
        "\n",
        "> **tfds.load**: convenience method to construct a builder, download the data, and create an input pipeline, returning a tf.data.Dataset.\n",
        "\n",
        "A complete list of datasets can be found [here](https://www.tensorflow.org/datasets/catalog/overview).\n",
        "\n",
        "**imdb_reviews** is a dataset for binary sentiment classification containing a set of 25,000 highly polar movie reviews for training, and 25,000 for testing. \n"
      ]
    },
    {
      "cell_type": "code",
      "metadata": {
        "id": "kI7cnhYJTBsQ",
        "colab_type": "code",
        "cellView": "form",
        "colab": {}
      },
      "source": [
        "#@title imdb_review\n",
        "# Split the training set into 60% and 40%, so we'll end up with 15,000 examples\n",
        "# for training, 10,000 examples for validation and 25,000 examples for testing.\n",
        "\n",
        "import tensorflow_datasets as tfds\n",
        "train_data, validation_data, test_data = tfds.load(\n",
        "    name=\"imdb_reviews\", \n",
        "    split=('train[:60%]', 'train[60%:]', 'test'),\n",
        "    as_supervised=True)\n"
      ],
      "execution_count": 0,
      "outputs": []
    },
    {
      "cell_type": "markdown",
      "metadata": {
        "id": "F_YsRLqf7Icl",
        "colab_type": "text"
      },
      "source": [
        "**[TensorFlow Hub](https://tfhub.dev/)** is a library for the publication, discovery, and consumption of reusable parts of machine learning models. A module is a self-contained piece of a TensorFlow graph, along with its weights and assets, that can be reused across different tasks in a process known as transfer learning.\n",
        "\n",
        "The tensorflow_hub library provides the class **hub.KerasLayer** that gets initialized with the URL (or filesystem path) of a **SavedModel** and then provides the computation from the SavedModel, including its pre-trained weights.\n",
        "\n",
        "\n",
        "\n",
        "```\n",
        "hub_url = \"https://tfhub.dev/google/tf2-preview/nnlm-en-dim128/1\"\n",
        "embed = hub.KerasLayer(hub_url, trainable=True)\n",
        "```\n",
        "\n",
        "The **trainable** flag indicates if you want to fine tune the pre-trained model or not (the default value is False).\n",
        "\n",
        "\n",
        "The **Universal Sentence Encoder** is a transformer based tf-hub model which encodes text into high-dimensional vectors that can be used for text classification, semantic similarity, clustering and other natural language tasks.\n",
        "\n"
      ]
    },
    {
      "cell_type": "code",
      "metadata": {
        "id": "CilXpdaj9gtU",
        "colab_type": "code",
        "cellView": "both",
        "outputId": "1a7a2c73-996b-4257-8d1c-0dce1ff63dd6",
        "colab": {
          "base_uri": "https://localhost:8080/",
          "height": 73
        }
      },
      "source": [
        "#@title Universal Sentence Encoder\n",
        "import tensorflow_hub as hub\n",
        "\n",
        "USE_layer = hub.KerasLayer(\"https://tfhub.dev/google/universal-sentence-encoder/4\", trainable=True)\n",
        "\n",
        "USE_layer ([\"this is a test sentence.\"]).numpy()[0][:10]"
      ],
      "execution_count": 2,
      "outputs": [
        {
          "output_type": "execute_result",
          "data": {
            "text/plain": [
              "array([ 0.0474886 , -0.04986645, -0.01711429,  0.02992412, -0.05266665,\n",
              "       -0.05958211,  0.00611431,  0.03350589,  0.04449553,  0.03384266],\n",
              "      dtype=float32)"
            ]
          },
          "metadata": {
            "tags": []
          },
          "execution_count": 2
        }
      ]
    },
    {
      "cell_type": "markdown",
      "metadata": {
        "id": "U3K_jUmqF6kg",
        "colab_type": "text"
      },
      "source": [
        "Now, Build a model with 2 hidden layers and a classification layer on top of Universal Sentence Encoder layer:"
      ]
    },
    {
      "cell_type": "code",
      "metadata": {
        "colab_type": "code",
        "cellView": "both",
        "outputId": "780267d1-7d6a-4763-d6e4-7f588bd1100c",
        "id": "UvOHuAL3Gq3H",
        "colab": {
          "base_uri": "https://localhost:8080/",
          "height": 466
        }
      },
      "source": [
        "#@title your model should look like this\n",
        "import tensorflow as tf"
      ],
      "execution_count": 0,
      "outputs": [
        {
          "output_type": "execute_result",
          "data": {
            "image/png": "[encoded data removed]",
            "text/plain": [
              "<IPython.core.display.Image object>"
            ]
          },
          "metadata": {
            "tags": []
          },
          "execution_count": 3
        }
      ]
    },
    {
      "cell_type": "code",
      "metadata": {
        "colab_type": "code",
        "cellView": "both",
        "outputId": "780267d1-7d6a-4763-d6e4-7f588bd1100c",
        "id": "ml8j-2uET4Ev",
        "colab": {
          "base_uri": "https://localhost:8080/",
          "height": 466
        }
      },
      "source": [
        "#@title build your model\n",
        "import tensorflow as tf\n",
        "\n",
        "\n",
        "#################################\n",
        "#    Put your Implementation    #\n",
        "#################################\n",
        "\n",
        "\n",
        "model = tf.keras.Model(inputs= USE_inputs, outputs=outputs)\n",
        "\n",
        "from tensorflow.keras.utils import plot_model\n",
        "plot_model(model)"
      ],
      "execution_count": 3,
      "outputs": [
        {
          "output_type": "execute_result",
          "data": {
            "image/png": "[encoded data removed]",
            "text/plain": [
              "<IPython.core.display.Image object>"
            ]
          },
          "metadata": {
            "tags": []
          },
          "execution_count": 3
        }
      ]
    },
    {
      "cell_type": "code",
      "metadata": {
        "id": "pCww7-jbUYRl",
        "colab_type": "code",
        "colab": {},
        "cellView": "form"
      },
      "source": [
        "#@title train your model\n",
        "model.compile(optimizer='adam',\n",
        "              loss=tf.keras.losses.BinaryCrossentropy(from_logits=True),\n",
        "              metrics=['accuracy'])\n",
        "\n",
        "history = model.fit(train_data.shuffle(10000).batch(32),\n",
        "                    epochs=5,\n",
        "                    validation_data=validation_data.batch(512),\n",
        "                    verbose=1)"
      ],
      "execution_count": 0,
      "outputs": []
    },
    {
      "cell_type": "code",
      "metadata": {
        "id": "gdaVlgYL_g50",
        "colab_type": "code",
        "cellView": "form",
        "colab": {}
      },
      "source": [
        "#@title validate your model\n",
        "results = model.evaluate(test_data.batch(512), verbose=1)\n",
        "\n",
        "for name, value in zip(model.metrics_names, results):\n",
        "  print(\"%s: %.3f\" % (name, value))"
      ],
      "execution_count": 0,
      "outputs": []
    }
  ]
}